{
 "cells": [
  {
   "cell_type": "markdown",
   "metadata": {},
   "source": [
    "<h1><center>Universidad de los Andes ‐ Ciencia de datos aplicada\n",
    " </center>\n",
    "    <h1><center>Sprint 2: Dataset Udemy </center></h1>\n",
    "    \n",
    "<center>Ana María Montes Franco - 202010396 </center>\n",
    "<center>Nicolas Rozo Bedoya - 2021 </center>\n",
    "<center>Mateo Zapata Lopez- 2021 </center>"
   ]
  },
  {
   "cell_type": "markdown",
   "metadata": {},
   "source": [
    "## Contexto del problema \n",
    "\n",
    "Udemy es una plataforma digital (MOOC-> Massive online open course) creada en el año 2009 que tiene como objetivo ofrecer cursos en línea gratuitos y pagos, que ofrencen clases de programación, finanzas, diseño gráfico, música, entre otros. La misión de Udemy es conectar a los estudiantes con los mejores instructores y ayudar a las personas alcanzar sus metas y perseguir sus sueños. Actualmente tiene más de 50 millones de estudiantes y 57.000 instructores enseñando 150.000 cursos en 65 lenguajes. Algunos de los cursos estan acreditados y generan certificaciones. \n",
    "\n",
    "Udemy permite crear y vender el contenido de una persona, que se le domina como el instructor. Los estudiantes pueden comprar el curso y el instructor recibe un porcentaje de la compra. El problema esta en que Udemy no cuenta con un estándar en los cursos ofrecidos, generando alta variabilidad en la estructura de los mismo. Adicionalmente, la gran cantidad y variedad de plataformas, tanto privadas como open source, evidencia que Udemy no ofrece un elemento diferenciador. \n",
    "\n",
    "Este dataset continene 3.682 datos de los cursos correspondientes a 4 categorias, el estudio se realiza para datos desde el 2011 hasta el 2017. \n",
    "> ### Caracteristicas del Dataset:\n",
    ">> 1. course_id: Identificación del curso \n",
    ">> 2. course_title: Titulo del curso \n",
    ">> 3. url: URL del curso \n",
    ">> 4. is_paid: True si el curso es pago, false si el curso es gratuito \n",
    ">> 5. price: Precio del curso \n",
    ">> 6. num_subscribers: Numero de subscriptores del curso \n",
    ">> 7. num_lectures: Numero de lecturas del curso \n",
    ">> 8. num_reviews: Numeri de reviews del curso \t\n",
    ">> 10. level: Nivel de dificultad del curso \n",
    ">> 11. content_duration: Duración de los materiales del curso \n",
    ">> 12. published_timestamp: Fecha de publicación del curso \n",
    ">> 13. subject: Categoria del curso "
   ]
  },
  {
   "cell_type": "code",
   "execution_count": 1,
   "metadata": {},
   "outputs": [],
   "source": [
    "# Librerias \n",
    "import numpy as np\n",
    "#Librería de manejo de datos\n",
    "import pandas as pd\n",
    "#Para regresión \n",
    "from sklearn import linear_model as lm\n",
    "from sklearn.linear_model import LinearRegression\n",
    "# Para realizar la separación del conjunto de aprendizaje en entrenamiento y test.\n",
    "from sklearn.model_selection import train_test_split\n",
    "# Grid search para obtener los mejores hiperparámetros\n",
    "from sklearn.model_selection import GridSearchCV\n",
    "# Para la validación cruzada\n",
    "from sklearn.model_selection import KFold \n",
    "#Preprocesar\n",
    "from sklearn import preprocessing\n",
    "# Para determinar el rendimiento del modelo con las métricas MSE, MAE y R2\n",
    "from sklearn.metrics import mean_squared_error, mean_absolute_error, r2_score\n",
    "# Para sacar un reporte estadístico que podemos usar para determinar las importancia de las variables explicativas.\n",
    "import statsmodels.api as sm \n",
    "# Librerías para gráficos\n",
    "import matplotlib.pyplot as plt\n",
    "import seaborn as sns\n",
    "#Pandas profiling \n",
    "from pandas_profiling import ProfileReport\n",
    "import plotly.express as px\n",
    "# Libreria para comparacion de distribucion entre dos conjuntos\n",
    "from scipy.stats import ks_2samp"
   ]
  },
  {
   "cell_type": "code",
   "execution_count": 2,
   "metadata": {},
   "outputs": [
    {
     "data": {
      "text/html": [
       "<div>\n",
       "<style scoped>\n",
       "    .dataframe tbody tr th:only-of-type {\n",
       "        vertical-align: middle;\n",
       "    }\n",
       "\n",
       "    .dataframe tbody tr th {\n",
       "        vertical-align: top;\n",
       "    }\n",
       "\n",
       "    .dataframe thead th {\n",
       "        text-align: right;\n",
       "    }\n",
       "</style>\n",
       "<table border=\"1\" class=\"dataframe\">\n",
       "  <thead>\n",
       "    <tr style=\"text-align: right;\">\n",
       "      <th></th>\n",
       "      <th>course_id</th>\n",
       "      <th>course_title</th>\n",
       "      <th>url</th>\n",
       "      <th>is_paid</th>\n",
       "      <th>price</th>\n",
       "      <th>num_subscribers</th>\n",
       "      <th>num_reviews</th>\n",
       "      <th>num_lectures</th>\n",
       "      <th>level</th>\n",
       "      <th>content_duration</th>\n",
       "      <th>published_timestamp</th>\n",
       "      <th>subject</th>\n",
       "    </tr>\n",
       "  </thead>\n",
       "  <tbody>\n",
       "    <tr>\n",
       "      <th>0</th>\n",
       "      <td>1070968</td>\n",
       "      <td>Ultimate Investment Banking Course</td>\n",
       "      <td>https://www.udemy.com/ultimate-investment-bank...</td>\n",
       "      <td>True</td>\n",
       "      <td>200</td>\n",
       "      <td>2147</td>\n",
       "      <td>23</td>\n",
       "      <td>51</td>\n",
       "      <td>All Levels</td>\n",
       "      <td>1.5</td>\n",
       "      <td>2017-01-18T20:58:58Z</td>\n",
       "      <td>Business Finance</td>\n",
       "    </tr>\n",
       "    <tr>\n",
       "      <th>1</th>\n",
       "      <td>1113822</td>\n",
       "      <td>Complete GST Course &amp; Certification - Grow You...</td>\n",
       "      <td>https://www.udemy.com/goods-and-services-tax/</td>\n",
       "      <td>True</td>\n",
       "      <td>75</td>\n",
       "      <td>2792</td>\n",
       "      <td>923</td>\n",
       "      <td>274</td>\n",
       "      <td>All Levels</td>\n",
       "      <td>39.0</td>\n",
       "      <td>2017-03-09T16:34:20Z</td>\n",
       "      <td>Business Finance</td>\n",
       "    </tr>\n",
       "    <tr>\n",
       "      <th>2</th>\n",
       "      <td>1006314</td>\n",
       "      <td>Financial Modeling for Business Analysts and C...</td>\n",
       "      <td>https://www.udemy.com/financial-modeling-for-b...</td>\n",
       "      <td>True</td>\n",
       "      <td>45</td>\n",
       "      <td>2174</td>\n",
       "      <td>74</td>\n",
       "      <td>51</td>\n",
       "      <td>Intermediate Level</td>\n",
       "      <td>2.5</td>\n",
       "      <td>2016-12-19T19:26:30Z</td>\n",
       "      <td>Business Finance</td>\n",
       "    </tr>\n",
       "    <tr>\n",
       "      <th>3</th>\n",
       "      <td>1210588</td>\n",
       "      <td>Beginner to Pro - Financial Analysis in Excel ...</td>\n",
       "      <td>https://www.udemy.com/complete-excel-finance-c...</td>\n",
       "      <td>True</td>\n",
       "      <td>95</td>\n",
       "      <td>2451</td>\n",
       "      <td>11</td>\n",
       "      <td>36</td>\n",
       "      <td>All Levels</td>\n",
       "      <td>3.0</td>\n",
       "      <td>2017-05-30T20:07:24Z</td>\n",
       "      <td>Business Finance</td>\n",
       "    </tr>\n",
       "    <tr>\n",
       "      <th>4</th>\n",
       "      <td>1011058</td>\n",
       "      <td>How To Maximize Your Profits Trading Options</td>\n",
       "      <td>https://www.udemy.com/how-to-maximize-your-pro...</td>\n",
       "      <td>True</td>\n",
       "      <td>200</td>\n",
       "      <td>1276</td>\n",
       "      <td>45</td>\n",
       "      <td>26</td>\n",
       "      <td>Intermediate Level</td>\n",
       "      <td>2.0</td>\n",
       "      <td>2016-12-13T14:57:18Z</td>\n",
       "      <td>Business Finance</td>\n",
       "    </tr>\n",
       "  </tbody>\n",
       "</table>\n",
       "</div>"
      ],
      "text/plain": [
       "   course_id                                       course_title  \\\n",
       "0    1070968                 Ultimate Investment Banking Course   \n",
       "1    1113822  Complete GST Course & Certification - Grow You...   \n",
       "2    1006314  Financial Modeling for Business Analysts and C...   \n",
       "3    1210588  Beginner to Pro - Financial Analysis in Excel ...   \n",
       "4    1011058       How To Maximize Your Profits Trading Options   \n",
       "\n",
       "                                                 url  is_paid  price  \\\n",
       "0  https://www.udemy.com/ultimate-investment-bank...     True    200   \n",
       "1      https://www.udemy.com/goods-and-services-tax/     True     75   \n",
       "2  https://www.udemy.com/financial-modeling-for-b...     True     45   \n",
       "3  https://www.udemy.com/complete-excel-finance-c...     True     95   \n",
       "4  https://www.udemy.com/how-to-maximize-your-pro...     True    200   \n",
       "\n",
       "   num_subscribers  num_reviews  num_lectures               level  \\\n",
       "0             2147           23            51          All Levels   \n",
       "1             2792          923           274          All Levels   \n",
       "2             2174           74            51  Intermediate Level   \n",
       "3             2451           11            36          All Levels   \n",
       "4             1276           45            26  Intermediate Level   \n",
       "\n",
       "   content_duration   published_timestamp           subject  \n",
       "0               1.5  2017-01-18T20:58:58Z  Business Finance  \n",
       "1              39.0  2017-03-09T16:34:20Z  Business Finance  \n",
       "2               2.5  2016-12-19T19:26:30Z  Business Finance  \n",
       "3               3.0  2017-05-30T20:07:24Z  Business Finance  \n",
       "4               2.0  2016-12-13T14:57:18Z  Business Finance  "
      ]
     },
     "execution_count": 2,
     "metadata": {},
     "output_type": "execute_result"
    }
   ],
   "source": [
    "# Lectura del dataset \n",
    "ucourses=pd.read_csv('udemy_courses.csv',encoding='latin-1',sep=',')\n",
    "ucourses.head(5)"
   ]
  },
  {
   "cell_type": "code",
   "execution_count": 3,
   "metadata": {},
   "outputs": [
    {
     "data": {
      "text/plain": [
       "(3678, 12)"
      ]
     },
     "execution_count": 3,
     "metadata": {},
     "output_type": "execute_result"
    }
   ],
   "source": [
    "#Dimensiones del dataset\n",
    "ucourses.shape "
   ]
  },
  {
   "cell_type": "code",
   "execution_count": 4,
   "metadata": {},
   "outputs": [
    {
     "name": "stdout",
     "output_type": "stream",
     "text": [
      "<class 'pandas.core.frame.DataFrame'>\n",
      "RangeIndex: 3678 entries, 0 to 3677\n",
      "Data columns (total 12 columns):\n",
      " #   Column               Non-Null Count  Dtype  \n",
      "---  ------               --------------  -----  \n",
      " 0   course_id            3678 non-null   int64  \n",
      " 1   course_title         3678 non-null   object \n",
      " 2   url                  3678 non-null   object \n",
      " 3   is_paid              3678 non-null   bool   \n",
      " 4   price                3678 non-null   int64  \n",
      " 5   num_subscribers      3678 non-null   int64  \n",
      " 6   num_reviews          3678 non-null   int64  \n",
      " 7   num_lectures         3678 non-null   int64  \n",
      " 8   level                3678 non-null   object \n",
      " 9   content_duration     3678 non-null   float64\n",
      " 10  published_timestamp  3678 non-null   object \n",
      " 11  subject              3678 non-null   object \n",
      "dtypes: bool(1), float64(1), int64(5), object(5)\n",
      "memory usage: 319.8+ KB\n"
     ]
    }
   ],
   "source": [
    "# Información sobre el tipo de cada columna del dataset \n",
    "ucourses.info()"
   ]
  },
  {
   "cell_type": "code",
   "execution_count": 5,
   "metadata": {},
   "outputs": [
    {
     "data": {
      "text/plain": [
       "course_id              0.0\n",
       "course_title           0.0\n",
       "url                    0.0\n",
       "is_paid                0.0\n",
       "price                  0.0\n",
       "num_subscribers        0.0\n",
       "num_reviews            0.0\n",
       "num_lectures           0.0\n",
       "level                  0.0\n",
       "content_duration       0.0\n",
       "published_timestamp    0.0\n",
       "subject                0.0\n",
       "dtype: float64"
      ]
     },
     "execution_count": 5,
     "metadata": {},
     "output_type": "execute_result"
    }
   ],
   "source": [
    "#limpieza de datos \n",
    "# 1. Comprobar las ausencias de datos por variable. \n",
    "ucourses.isna().sum()/len(ucourses)"
   ]
  },
  {
   "cell_type": "markdown",
   "metadata": {},
   "source": [
    "El dataset no cuenta con datos faltantes lo que facilita la etapa de preparación de los datos "
   ]
  },
  {
   "cell_type": "code",
   "execution_count": 6,
   "metadata": {},
   "outputs": [],
   "source": [
    "#Con el fin de conocer en primera instancia los datos, se realizar el perfilamiento\n",
    "profile = ProfileReport(ucourses, title=\"Perfilamiento de datos\")"
   ]
  },
  {
   "cell_type": "code",
   "execution_count": null,
   "metadata": {},
   "outputs": [
    {
     "data": {
      "application/vnd.jupyter.widget-view+json": {
       "model_id": "ebd78fa869534ae29e1c92785cd2f7c7",
       "version_major": 2,
       "version_minor": 0
      },
      "text/plain": [
       "Summarize dataset:   0%|          | 0/26 [00:00<?, ?it/s]"
      ]
     },
     "metadata": {},
     "output_type": "display_data"
    },
    {
     "data": {
      "application/vnd.jupyter.widget-view+json": {
       "model_id": "52f6e3bf9d39439bb0708c074865ba15",
       "version_major": 2,
       "version_minor": 0
      },
      "text/plain": [
       "Generate report structure:   0%|          | 0/1 [00:00<?, ?it/s]"
      ]
     },
     "metadata": {},
     "output_type": "display_data"
    },
    {
     "data": {
      "application/vnd.jupyter.widget-view+json": {
       "model_id": "9c30ccda6d8a4ccfb35be93326558065",
       "version_major": 2,
       "version_minor": 0
      },
      "text/plain": [
       "Render HTML:   0%|          | 0/1 [00:00<?, ?it/s]"
      ]
     },
     "metadata": {},
     "output_type": "display_data"
    }
   ],
   "source": [
    "profile"
   ]
  },
  {
   "cell_type": "markdown",
   "metadata": {},
   "source": [
    "las gráficas suministradas en los histogramas suministrados por el profile realizado se encuentra que la mayoría de los cursos tienen una duración entre 0-5 horas, que usualmente hay entre 1 y 50 lecturas por curso, que los cursos suelen tener pocos reviews, la mayoría de los cursos están en el mismo rango de suscriptores, hay cursos para los cuales es muy marcado que se encuentran en el trending topic y para finalizar suponiendo que los precios se encuentran en dólares, el rango esta entre 0 y 250 dólares, mostrando como el precio más común es $25. "
   ]
  },
  {
   "cell_type": "code",
   "execution_count": null,
   "metadata": {},
   "outputs": [],
   "source": [
    "#Limpieza de datos \n",
    "#2. Eliminar duplicados \n",
    "\n",
    "## El profiling muestra que se tienen 6 datos duplicados\n",
    "#Gracias al entendimiento de los datos se identifica que se deben eliminar instancias duplicadas correspondiente \n",
    "#al URL dado que cada curso cuenta con uno propio  \n",
    "ucourses[\"url\"].nunique()"
   ]
  },
  {
   "cell_type": "code",
   "execution_count": null,
   "metadata": {},
   "outputs": [],
   "source": [
    "# El resultado anterior de 3672 respecto al original de 3678 nos permite confirmar que estos 6 datos duplicados corresponden\n",
    "# al url del curso por esta razón se eliminan \n",
    "ucourses.drop_duplicates(\"url\", inplace=True)"
   ]
  },
  {
   "cell_type": "code",
   "execution_count": null,
   "metadata": {},
   "outputs": [],
   "source": [
    "#Verificar que se esos 6 corresponden al url \n",
    "ucourses.shape"
   ]
  },
  {
   "cell_type": "code",
   "execution_count": null,
   "metadata": {},
   "outputs": [],
   "source": [
    "#Preparación de datos-> Trasnformación de variables \n",
    "# La ariable tiempo viene en \"object format\" y debe ser remplazada por el formado datatime, adicionalmente luego de extra \n",
    "# transformación se extrae el dato de interes correspondiente al año y se crea una nueva columna \n",
    "\n",
    "ucourses['year'] = pd.DatetimeIndex(ucourses['published_timestamp']).year"
   ]
  },
  {
   "cell_type": "code",
   "execution_count": null,
   "metadata": {},
   "outputs": [],
   "source": [
    "#Preparación de datos-> Enriquecimiento del dataset \n",
    "# Nueva columna en formato datatime que contiene el año de publicación del curso \n",
    "ucourses['year']"
   ]
  },
  {
   "cell_type": "code",
   "execution_count": null,
   "metadata": {
    "scrolled": true
   },
   "outputs": [],
   "source": [
    "#Preparación de datos-> Selección de variables significativas para el analisis \n",
    "ucourses.corr()"
   ]
  },
  {
   "cell_type": "code",
   "execution_count": null,
   "metadata": {},
   "outputs": [],
   "source": [
    "# Como se pudo analizar en el perfiladmiento de los datos hay 3 variables que no aportan información significativa \n",
    "# Por este motivo seran eliminadas del dataframe \n",
    "ucourses=ucourses.drop([\"published_timestamp\",\"url\",\"course_id\"],axis=1)"
   ]
  },
  {
   "cell_type": "code",
   "execution_count": null,
   "metadata": {},
   "outputs": [],
   "source": [
    "#Preparación de datos-> Enriquecimiento del dataset \n",
    "# Se construye una nueva columna en la cual se calcula cual es la gancian por subscriptor cuando el curso es pago \n",
    "ucourses[\"ganancia\"]=ucourses[\"price\"]*ucourses[\"num_subscribers\"]"
   ]
  },
  {
   "cell_type": "code",
   "execution_count": null,
   "metadata": {},
   "outputs": [],
   "source": [
    "#Preparación de datos-> Construcción de un nuevo dataframe\n",
    "\n",
    "# Columnadas nuevo dataframe \n",
    "ucourses.head(1)"
   ]
  },
  {
   "cell_type": "code",
   "execution_count": null,
   "metadata": {},
   "outputs": [],
   "source": [
    "# Analitica descriptiva de las principales variables numericas \n",
    "ucourses.describe()"
   ]
  },
  {
   "cell_type": "markdown",
   "metadata": {},
   "source": [
    "A nivel general se destaca que la media del precio es 66,10 la cantidad de subscriptores 3190, de reviews 156 y la duración del contenido es de 4 horas aproximadamente.  \n",
    "\n",
    "Con la información que se tiene hasta este punto y teniendo presente que algo importante para los instructores de udemy es que cursos deben actualizar o no su contenido se profundizara el analisis exploratorio en los cursos más populares dentro del amplio portafolios, no con el fin de brindar un mejor servicio y jerarquizar el trabajo. "
   ]
  },
  {
   "cell_type": "code",
   "execution_count": null,
   "metadata": {},
   "outputs": [],
   "source": [
    "#Preparación de datos-> Transformación de las variables categoricas \n",
    "#Cantidad de cursos que ofrece Udmey por categoria. \n",
    "ucourses['subject'].value_counts()"
   ]
  },
  {
   "cell_type": "code",
   "execution_count": null,
   "metadata": {},
   "outputs": [],
   "source": [
    "# Exploración de datos \n",
    "\n",
    "#Cantidad de cursos por año \n",
    "ucourses['year'].value_counts()"
   ]
  },
  {
   "cell_type": "code",
   "execution_count": null,
   "metadata": {},
   "outputs": [],
   "source": [
    "# Exploración de datos -> Analisis bivariado \n",
    "\n",
    "plot_data = ucourses.groupby(['year', 'subject'])['year'].count().to_frame()\n",
    "plot_data['subject'] = [ x[1] for x in plot_data.index.tolist()]\n",
    "plot_data.index = [x[0] for x in plot_data.index.tolist()]\n",
    "plot_data['time'] = plot_data.index\n",
    "plot_data = plot_data.reset_index(drop=True)\n",
    "sns.catplot(x = 'time', y=\"year\", hue=\"subject\",palette = sns.color_palette(\"magma\"), kind=\"point\",data=plot_data)\n",
    "plt.show()"
   ]
  },
  {
   "cell_type": "markdown",
   "metadata": {},
   "source": [
    "El grafico bivariado permite observar con mayor claridad la distribución de las categorías, ver las tendencias ya que a diferencia de los diagramas del perfilamiento en este es notable la diferencia entre cada una y los picos que a tenido la serie en los 7 años de análisis, destacando sobre todo las dos primeras categorías"
   ]
  },
  {
   "cell_type": "code",
   "execution_count": null,
   "metadata": {},
   "outputs": [],
   "source": [
    " # Exploración de datos -> Analisis multivariado\n",
    "\n",
    "df1 = ucourses.groupby('year')[['num_reviews','num_lectures']].sum().reset_index()\n",
    "df1 = df1[df1.year != 2017]\n",
    "### Se analiso que para el año 2017 no se tiene toda la información \n",
    "df1 = df1.set_index('year')\n",
    "df1.plot.bar(rot=0)"
   ]
  },
  {
   "cell_type": "markdown",
   "metadata": {},
   "source": [
    "Este diagrama de barras multivariado permite observar la comparación del comportamiento del número de reviews respecto a el numero de lecturas para los años de análisis. "
   ]
  },
  {
   "cell_type": "code",
   "execution_count": null,
   "metadata": {},
   "outputs": [],
   "source": [
    "ucourses[\"level\"].value_counts()"
   ]
  },
  {
   "cell_type": "code",
   "execution_count": null,
   "metadata": {},
   "outputs": [],
   "source": [
    "# Exploración de datos -> EXTRAER EL TOP 10 DE LOS CURSOS MÁS POPULARES DE UDEMY \n",
    "\n",
    "# Para realizar estas graficas construimos un nuevo dataframe  \n",
    "df = ucourses.groupby(['is_paid',\"subject\",\"level\", \"course_title\",'content_duration'])[['num_subscribers','num_reviews','num_lectures']].sum().reset_index()\n",
    "df"
   ]
  },
  {
   "cell_type": "code",
   "execution_count": null,
   "metadata": {},
   "outputs": [],
   "source": [
    "# Grafica top 10 de los cursos con más subscriptores \n",
    "\n",
    "top_course = df.sort_values(by='num_subscribers', ascending=False)[:10]\n",
    "figure = plt.figure(figsize=(10,6))\n",
    "sns.barplot(y=top_course.course_title, x=top_course.num_subscribers)\n",
    "plt.xticks()\n",
    "plt.xlabel('num_subscribers')\n",
    "plt.ylabel('Course_title')\n",
    "plt.title('The Most Popular Courses')\n",
    "plt.show()"
   ]
  },
  {
   "cell_type": "code",
   "execution_count": null,
   "metadata": {},
   "outputs": [],
   "source": [
    "# Exploración de datos -> Cantidad de cursos pagos y gratutios en el top respecto al # de subscriptores \n",
    "\n",
    "pdf= top_course[['is_paid', 'subject']].value_counts().reset_index()\n",
    "pdf"
   ]
  },
  {
   "cell_type": "code",
   "execution_count": null,
   "metadata": {},
   "outputs": [],
   "source": [
    "#Top 10 Most Popular Courses Reviews by content duration\n",
    "\n",
    "top_course2 = df.sort_values(by='content_duration', ascending=False)[:10]\n",
    "figure = plt.figure(figsize=(10,6))\n",
    "sns.barplot(y=top_course2.course_title, x=top_course2.content_duration)\n",
    "plt.xticks()\n",
    "plt.xlabel('content_duration')\n",
    "plt.ylabel('Course_title')\n",
    "plt.title('The Most Popular Courses content duration')\n",
    "plt.show()\n"
   ]
  },
  {
   "cell_type": "code",
   "execution_count": null,
   "metadata": {},
   "outputs": [],
   "source": [
    "#Top 10 Most Popular Courses Reviews by num_reviews\n",
    "\n",
    "top_course2 = df.sort_values(by='num_reviews', ascending=False)[:10]\n",
    "figure = plt.figure(figsize=(10,6))\n",
    "sns.barplot(y=top_course2.course_title, x=top_course2.num_reviews)\n",
    "plt.xticks()\n",
    "plt.xlabel('num reviews')\n",
    "plt.ylabel('Course_title')\n",
    "plt.title('The Most Popular Courses Reviews')\n",
    "plt.show()\n"
   ]
  },
  {
   "cell_type": "code",
   "execution_count": null,
   "metadata": {},
   "outputs": [],
   "source": [
    "#Top 10 Most Popular Courses Reviews by num_lectures\n",
    "\n",
    "top_course2 = df.sort_values(by='num_lectures', ascending=False)[:10]\n",
    "figure = plt.figure(figsize=(10,6))\n",
    "sns.barplot(y=top_course2.course_title, x=top_course2.num_lectures)\n",
    "plt.xticks()\n",
    "plt.xlabel('num lectures')\n",
    "plt.ylabel('Course_title')\n",
    "plt.title('The Most Popular Courses Lectures')\n",
    "plt.show()"
   ]
  },
  {
   "cell_type": "code",
   "execution_count": null,
   "metadata": {},
   "outputs": [],
   "source": [
    "# Exploración de datos -> Cantidad de cursos pagos y gratutios en el top respecto a la duración del contenido  \n",
    "pdf2= top_course2[['is_paid', 'subject']].value_counts().reset_index()\n",
    "pdf2"
   ]
  },
  {
   "cell_type": "code",
   "execution_count": null,
   "metadata": {},
   "outputs": [],
   "source": [
    "# Exploración de datos -> Variable de es pago o no \n",
    "\n",
    "#Diagram de barras con proporcion \n",
    "plt.figure(figsize=(10,5))\n",
    "sns.countplot(x=ucourses[\"is_paid\"])\n",
    "plt.title(\"Free and Paid Courses\", size=20)\n",
    "plt.xlabel(\"is_paid\", size = 15)\n",
    "plt.ylabel(\"count\", size=15)\n",
    "plt.tight_layout()\n",
    "plt.show()"
   ]
  },
  {
   "cell_type": "code",
   "execution_count": null,
   "metadata": {},
   "outputs": [],
   "source": [
    "# Exploración de datos -> Analisis multivariado\n",
    "## Analisis de la distribución de los precios segun la categoria \n",
    "\n",
    "fig = plt.figure(figsize=(15,8),)\n",
    "ax=sns.kdeplot(ucourses.loc[(ucourses['subject'] == 'Business Finance'),'price'] , color='yellow',shade=True,label='Business Finance')\n",
    "ax=sns.kdeplot(ucourses.loc[(ucourses['subject'] == 'Graphic Design'),'price'] , color='black',shade=True, label='Graphic Design')\n",
    "ax=sns.kdeplot(ucourses.loc[(ucourses['subject'] == 'Musical Instruments'),'price'] , color='red',shade=True,label='Musical Instruments')\n",
    "ax=sns.kdeplot(ucourses.loc[(ucourses['subject'] == 'Web Development'),'price'] , color='green',shade=True,label='Web Development')\n",
    "plt.title('Price Distribution', fontsize = 25, pad = 40)\n",
    "plt.ylabel(\"Frequency of Price\", fontsize = 15, labelpad = 20)\n",
    "plt.xlabel(\"Price\", fontsize = 15, labelpad = 20);"
   ]
  },
  {
   "cell_type": "markdown",
   "metadata": {},
   "source": [
    "Esta grafica permite confirmar muchos de los análisis realizados respecto al nivel principiante dado que los cursos de mayor valor correspondientes a nivel experto son los menos comunes y se ven nuevamente los picos observados en el perfilamiento, destacando que la categoría más popular correspondiente a Web development en color verde no es la que tiene los precios más altos. "
   ]
  },
  {
   "cell_type": "code",
   "execution_count": null,
   "metadata": {},
   "outputs": [],
   "source": [
    "# Exploración de datos -> Analisis multivariado \n",
    "# Box plot \n",
    "\n",
    "fig=px.box(ucourses,x=\"content_duration\",y=\"subject\",orientation=\"h\",color=\"is_paid\",\n",
    "          title=\"Content duration according to subject and type of course\",\n",
    "          color_discrete_sequence=[\"#03cffc\",'#eb03fc'])\n",
    "fig.update_xaxes(title=\"content duration\")\n",
    "fig.update_yaxes(title=\"course subject\")\n",
    "fig.show()\n"
   ]
  },
  {
   "cell_type": "markdown",
   "metadata": {},
   "source": [
    "Es evidente como cuando el contenido es gratis la duracion es menor "
   ]
  },
  {
   "cell_type": "code",
   "execution_count": null,
   "metadata": {},
   "outputs": [],
   "source": [
    " # Exploración de datos -> Analisis multivariado\n",
    "    \n",
    "plt.rcParams['figure.figsize'] = (30, 50)\n",
    "sns.catplot(x=\"level\", kind=\"count\",hue ='subject', data=ucourses, col='is_paid');\n",
    "plt.show()"
   ]
  },
  {
   "cell_type": "code",
   "execution_count": null,
   "metadata": {},
   "outputs": [],
   "source": [
    "# Exploración de datos -> Analisis multivariado\n",
    "\n",
    "#Conteo de cursos gratis por categoria \n",
    "\n",
    "Free_courses=ucourses[ucourses['price']==0].groupby(['subject']).count()\n",
    "Free_courses\n"
   ]
  },
  {
   "cell_type": "markdown",
   "metadata": {},
   "source": [
    "La categoria que más cuenta con cursos gratuitos es Web Development con una cantidad de 133 cursos, seguido de Business Finance con 96 "
   ]
  },
  {
   "cell_type": "code",
   "execution_count": null,
   "metadata": {},
   "outputs": [],
   "source": [
    "#### Cursos pagos por categoria \n",
    "\n",
    "Paid_courses=ucourses[ucourses['price']!='Free'].groupby(['subject']).count()\n",
    "Paid_courses"
   ]
  },
  {
   "cell_type": "code",
   "execution_count": null,
   "metadata": {},
   "outputs": [],
   "source": [
    "# Exploración de datos -> Analisis multivariado\n",
    "\n",
    "fig_dims = (15, 6)\n",
    "fig, ax = plt.subplots(figsize=fig_dims)\n",
    "sns.barplot(x=\"subject\",y=\"num_lectures\",data=df,ax=ax,palette=\"cubehelix\",estimator=np.mean,hue=df.level)"
   ]
  },
  {
   "cell_type": "code",
   "execution_count": null,
   "metadata": {},
   "outputs": [],
   "source": [
    "## Trasnformación variable precio\n",
    "\n",
    "####### Label encoding \n",
    "def labcat(price):\n",
    "    if price >=0 and price<20: #(Economico)\n",
    "        return 1\n",
    "    if price >=20 and price<45: #(Estandar)\n",
    "        return 2\n",
    "    if price >=45 and price<90: #(Premium)\n",
    "        return 3\n",
    "    else: \n",
    "        return 4                #(Royal)"
   ]
  },
  {
   "cell_type": "code",
   "execution_count": null,
   "metadata": {},
   "outputs": [],
   "source": [
    "Data1= ucourses\n",
    "Data1[\"price\"]=Data1[\"price\"].apply(labcat)"
   ]
  },
  {
   "cell_type": "code",
   "execution_count": null,
   "metadata": {},
   "outputs": [],
   "source": [
    "# Datos codificados \n",
    "Data1[\"price\"]"
   ]
  },
  {
   "cell_type": "code",
   "execution_count": null,
   "metadata": {},
   "outputs": [],
   "source": [
    "# Segun lo encontrado en el analisis posterior se quiere conocer de manera detallada la correlacion de las variables que más se destacaron \n",
    "## Para la seleccion de variables volver a mirar el diagrama de correlación asi ya este en el profiling \n",
    "\n",
    "cor = ucourses.corr() \n",
    "sns.heatmap(cor, square = True) "
   ]
  },
  {
   "cell_type": "code",
   "execution_count": null,
   "metadata": {},
   "outputs": [],
   "source": [
    "# Otro formato del diagrama de correlación que permite observar con mayor detalle lo obtenido \n",
    "sns.heatmap(ucourses.corr(), cmap=\"coolwarm\", annot=True);"
   ]
  },
  {
   "cell_type": "markdown",
   "metadata": {},
   "source": [
    "El diagrama de correlación permite observa que no existe una fuerte correlación entre las variables, pero si una moderada entre número de suscriptores, reviews y lectures. Con esta relación identificada se plantean los siguientes modelos de predicción:  "
   ]
  },
  {
   "cell_type": "markdown",
   "metadata": {},
   "source": [
    "## Modelos de predicción \n",
    "Debido a los valores de correlacion se realizan solamente regresiones lineales simples \n",
    "1. Modelo 1: Se busca predecir el numero de reviews que se tendra segun un numero de subscriptores esto teniendo en cuenta el flujo ya que solo se puede obtener un review al estar subscrito \n",
    "\n",
    "2. Modelo 2: Se busca predecir la duración del contenido segun la cantidad de lecturas"
   ]
  },
  {
   "cell_type": "markdown",
   "metadata": {},
   "source": [
    "## Modelo 1"
   ]
  },
  {
   "cell_type": "code",
   "execution_count": null,
   "metadata": {},
   "outputs": [],
   "source": [
    "# Se selecciona la variable objetivo, en este caso \"numero de reviews\".\n",
    "Y=ucourses['num_reviews']\n",
    "#Variables predictoras \n",
    "X=ucourses[\"num_subscribers\"].values.reshape(-1, 1)"
   ]
  },
  {
   "cell_type": "markdown",
   "metadata": {},
   "source": [
    "### Separación de los datos en conjuntos de prueba y entrenamiento y verificación que las distribuciones de ambos conjuntos son similares."
   ]
  },
  {
   "cell_type": "code",
   "execution_count": null,
   "metadata": {},
   "outputs": [],
   "source": [
    "# Se realiza la división entrenamiento - test. Se deja 20% de los datos para el test.\n",
    "X_train, X_test, Y_train, Y_test = train_test_split( X, Y, test_size=0.2, random_state=0)"
   ]
  },
  {
   "cell_type": "code",
   "execution_count": null,
   "metadata": {},
   "outputs": [],
   "source": [
    "##### Distribución luego del split \n",
    "\n",
    "print(\"Number of instances in training set: \", len(X_train))\n",
    "print(\"Number of instances in testing set: \", len(X_test))"
   ]
  },
  {
   "cell_type": "markdown",
   "metadata": {},
   "source": [
    " Se realiza la validación de las disitrubcion de ambos conjuntos usando el test de Kolmogorov.\n",
    " Se valida que la distribucion de los conjuntos de datos cumpla con la condición que su distribución sea\n",
    " uniforme, exponencial, posion o normal usando pandas profiling\n"
   ]
  },
  {
   "cell_type": "code",
   "execution_count": null,
   "metadata": {},
   "outputs": [],
   "source": [
    "dfY_train = pd.DataFrame(Y_train)\n",
    "dfY_test = pd.DataFrame(Y_test)\n",
    "dfX_train = pd.DataFrame(X_train)\n",
    "dfX_test = pd.DataFrame(X_test)"
   ]
  },
  {
   "cell_type": "code",
   "execution_count": null,
   "metadata": {},
   "outputs": [],
   "source": [
    "perfilamientoY_train=ProfileReport(dfY_train)\n",
    "perfilamientoY_train"
   ]
  },
  {
   "cell_type": "code",
   "execution_count": null,
   "metadata": {},
   "outputs": [],
   "source": [
    "perfilamientodfY_test=ProfileReport(dfY_test)\n",
    "perfilamientodfY_test"
   ]
  },
  {
   "cell_type": "code",
   "execution_count": null,
   "metadata": {},
   "outputs": [],
   "source": [
    "perfilamientodfX_test=ProfileReport(dfX_test)\n",
    "perfilamientodfX_test"
   ]
  },
  {
   "cell_type": "code",
   "execution_count": null,
   "metadata": {},
   "outputs": [],
   "source": [
    "perfilamientoY_train=ProfileReport(dfY_train)\n",
    "perfilamientoY_train"
   ]
  },
  {
   "cell_type": "markdown",
   "metadata": {},
   "source": [
    "Teniendo en cuenta que la distribución del conjunto de datos es de tipo exponencial se puede realizar el test de \n",
    "Kolmogorov-Smirnov"
   ]
  },
  {
   "cell_type": "code",
   "execution_count": null,
   "metadata": {},
   "outputs": [],
   "source": [
    "ks_2samp(X_train[:, 0], X_test[:, 0])"
   ]
  },
  {
   "cell_type": "code",
   "execution_count": null,
   "metadata": {},
   "outputs": [],
   "source": [
    "ks_2samp(Y_train, Y_test)"
   ]
  },
  {
   "cell_type": "markdown",
   "metadata": {},
   "source": [
    "La hipótesis nula es que las dos distribuciones son idénticas. Si el estadístico K-S es pequeño o el valor p es alto (mayor que el nivel de significancia de 5%), en este caso se acepta la hipótesis de que las distribuciones de las dos muestras son similares. Sí el valor p es bajo se rechazaria la hipótesis nula."
   ]
  },
  {
   "cell_type": "code",
   "execution_count": null,
   "metadata": {},
   "outputs": [],
   "source": [
    "# 3. Construcción del modelo \n",
    "\n",
    "# Primero se crea el objeto para construir el modelo\n",
    "modelo_regresion = LinearRegression()\n",
    "# Podemos verificar que lo hemos construido.\n",
    "modelo_regresion"
   ]
  },
  {
   "cell_type": "code",
   "execution_count": null,
   "metadata": {},
   "outputs": [],
   "source": [
    "# Ajustar el modelo con los datos de entrenamiento\n",
    "modelo_regresion = modelo_regresion.fit(X_train,Y_train)"
   ]
  },
  {
   "cell_type": "code",
   "execution_count": null,
   "metadata": {},
   "outputs": [],
   "source": [
    "# Predicciones del modelo sobre el conjunto de entrenamiento.\n",
    "y_pred = modelo_regresion.predict(X_train)"
   ]
  },
  {
   "cell_type": "code",
   "execution_count": null,
   "metadata": {},
   "outputs": [],
   "source": [
    "# 4. Evaluación del modelo \n",
    "\n",
    "# Que tan bien se desempeña el modelo, como se ajustan los datos\n",
    "# Mean-Squared-Error(MSE). Error medio cuadrático  ---> Varianza (Se busca que sea lo menor posible)\n",
    "# Mean-Absolute-Error(MAE). Error absoluto medio   ---> Desviación absoluta promedio \n",
    "# R² or Coeficiente de determinación ---> Se busca que sea cercano a 1 \n",
    "\n",
    "# Se obtienen las métricas a partir de la predicción y la base de evaluación (valores reales).\n",
    "print(\"MSE: %.2f\" % mean_squared_error(Y_train, y_pred, squared=False))\n",
    "print(\"MAE: %.2f\" % mean_absolute_error(Y_train, y_pred))\n",
    "#print('R²: %.2f' % r2_score(Y_train, y_pred))\n",
    "\n",
    "## un R2 cercano a 1 es overt y cercano a 0 under\n",
    "## Si le saco la raiz al MSE puedo decir que en promedio me equivoco o varia entre el valor que me de "
   ]
  },
  {
   "cell_type": "code",
   "execution_count": null,
   "metadata": {},
   "outputs": [],
   "source": [
    "# 5. Interpretacion del modelo\n",
    "\n",
    "# Ajustar el modelo para ver el reporte\n",
    "model = sm.OLS(Y, X).fit() ## sm.OLS(output, input)\n",
    "# Mostrar las estadísticas del modelo\n",
    "model.summary()"
   ]
  },
  {
   "cell_type": "code",
   "execution_count": null,
   "metadata": {},
   "outputs": [],
   "source": [
    "## Para sacar resultados de la tabla \n",
    "print('coefficient of determination:', model.rsquared)\n",
    "print('adjusted coefficient of determination:', model.rsquared_adj)\n",
    "print('regression coefficients:', model.params) ## B0,b1,b2"
   ]
  },
  {
   "cell_type": "code",
   "execution_count": null,
   "metadata": {},
   "outputs": [],
   "source": [
    "# Se saca el coeficiente y el intercepto del modelo\n",
    "print(modelo_regresion.intercept_)\n",
    "print(modelo_regresion.coef_)"
   ]
  },
  {
   "cell_type": "markdown",
   "metadata": {},
   "source": [
    "### Modelo 2"
   ]
  },
  {
   "cell_type": "code",
   "execution_count": null,
   "metadata": {},
   "outputs": [],
   "source": [
    "# Se selecciona la variable objetivo, en este caso \"num_subscribers\".\n",
    "Y2=ucourses[[\"num_subscribers\"]]\n",
    "#Variables predictoras \n",
    "X2=ucourses[[\"price\",\"content_duration\",\"num_lectures\"]]"
   ]
  },
  {
   "cell_type": "code",
   "execution_count": null,
   "metadata": {},
   "outputs": [],
   "source": [
    "# Se realiza la división entrenamiento - test. Se deja 20% de los datos para el test.\n",
    "X_train, X_test, Y_train, Y_test = train_test_split( X2,Y2, test_size=0.2, random_state=0)"
   ]
  },
  {
   "cell_type": "code",
   "execution_count": null,
   "metadata": {},
   "outputs": [],
   "source": [
    "##### Distribución luego del split \n",
    "print(\"Number of instances in training set: \", len(X_train))\n",
    "print(\"Number of instances in testing set: \", len(X_test))"
   ]
  },
  {
   "cell_type": "code",
   "execution_count": null,
   "metadata": {},
   "outputs": [],
   "source": [
    "# 3. Construcción del modelo \n",
    "\n",
    "# Primero se crea el objeto para construir el modelo\n",
    "modelo_regresion = LinearRegression()\n",
    "# Podemos verificar que lo hemos construido.\n",
    "modelo_regresion"
   ]
  },
  {
   "cell_type": "code",
   "execution_count": null,
   "metadata": {},
   "outputs": [],
   "source": [
    "# Ajustar el modelo con los datos de entrenamiento\n",
    "modelo_regresion.fit(X_train,Y_train)"
   ]
  },
  {
   "cell_type": "code",
   "execution_count": null,
   "metadata": {},
   "outputs": [],
   "source": [
    "# Predicciones del modelo sobre el conjunto de entrenamiento.\n",
    "y_pred = modelo_regresion.predict(X_train)"
   ]
  },
  {
   "cell_type": "code",
   "execution_count": null,
   "metadata": {},
   "outputs": [],
   "source": [
    "# 4. Evaluación del modelo \n",
    "\n",
    "# Que tan bien se desempeña el modelo, como se ajustan los datos\n",
    "# Mean-Squared-Error(MSE). Error medio cuadrático  ---> Varianza (Se busca que sea lo menor posible)\n",
    "# Mean-Absolute-Error(MAE). Error absoluto medio   ---> Desviación absoluta promedio \n",
    "# R² or Coeficiente de determinación ---> Se busca que sea cercano a 1 \n",
    "\n",
    "# Se obtienen las métricas a partir de la predicción y la base de evaluación (valores reales).\n",
    "print(\"MSE: %.2f\" % mean_squared_error(Y_train, y_pred, squared=False))\n",
    "print(\"MAE: %.2f\" % mean_absolute_error(Y_train, y_pred))\n",
    "print('R²: %.2f' % r2_score(Y_train, y_pred))\n",
    "\n",
    "## un R2 cercano a 1 es overt y cercano a 0 under\n",
    "## Si le saco la raiz al MSE puedo decir que en promedio me equivoco o varia entre el valor que me de "
   ]
  },
  {
   "cell_type": "code",
   "execution_count": null,
   "metadata": {},
   "outputs": [],
   "source": [
    "# 5. Interpretacion del modelo\n",
    "\n",
    "# Ajustar el modelo para ver el reporte\n",
    "model = sm.OLS(Y2, X2).fit() ## sm.OLS(output, input)\n",
    "# Mostrar las estadísticas del modelo\n",
    "model.summary()"
   ]
  },
  {
   "cell_type": "code",
   "execution_count": null,
   "metadata": {},
   "outputs": [],
   "source": [
    "## Para sacar resultados de la tabla \n",
    "print('coefficient of determination:', model.rsquared)\n",
    "print('adjusted coefficient of determination:', model.rsquared_adj)\n",
    "print('regression coefficients:', model.params) ## B0,b1,b2"
   ]
  },
  {
   "cell_type": "code",
   "execution_count": null,
   "metadata": {},
   "outputs": [],
   "source": [
    "# Se saca los coeficiente y el intercepto del modelo\n",
    "print(modelo_regresion.intercept_)\n",
    "print(modelo_regresion.coef_)"
   ]
  },
  {
   "cell_type": "markdown",
   "metadata": {},
   "source": [
    "## OTRA FORMA DE IMPLEMENTAR LA REGRESIÓN LINEAL MULTIPLE "
   ]
  },
  {
   "cell_type": "code",
   "execution_count": null,
   "metadata": {},
   "outputs": [],
   "source": [
    "#Multiple Linear Regression\n",
    "inputDF = ucourses[[\"price\",\"content_duration\"]]\n",
    "outputDF = ucourses[[\"num_subscribers\"]]\n",
    "\n",
    "model = lm.LinearRegression()\n",
    "results = model.fit(inputDF,outputDF)\n",
    "\n",
    "print(model.intercept_, model.coef_)"
   ]
  },
  {
   "cell_type": "code",
   "execution_count": null,
   "metadata": {},
   "outputs": [],
   "source": [
    "outputDF_predict = model.predict(inputDF)\n",
    "print(np.hstack((inputDF,outputDF, outputDF_predict)))"
   ]
  },
  {
   "cell_type": "code",
   "execution_count": null,
   "metadata": {},
   "outputs": [],
   "source": [
    "#Linear Regression representation using scatter plot\n",
    "plt.scatter(inputDF.content_duration,outputDF)\n",
    "plt.plot(inputDF.content_duration, outputDF_predict, color=\"blue\")\n",
    "plt.show()"
   ]
  },
  {
   "cell_type": "markdown",
   "metadata": {},
   "source": [
    "Kevin> as as predictor variables are clustered in between 0 and 5000,overall outcome of the linear regression seemed toe be influenced."
   ]
  },
  {
   "cell_type": "markdown",
   "metadata": {},
   "source": [
    "Las variables predictivas estan concentradas entre 0 y 5000"
   ]
  }
 ],
 "metadata": {
  "kernelspec": {
   "display_name": "Python 3",
   "language": "python",
   "name": "python3"
  },
  "language_info": {
   "codemirror_mode": {
    "name": "ipython",
    "version": 3
   },
   "file_extension": ".py",
   "mimetype": "text/x-python",
   "name": "python",
   "nbconvert_exporter": "python",
   "pygments_lexer": "ipython3",
   "version": "3.8.8"
  }
 },
 "nbformat": 4,
 "nbformat_minor": 4
}
